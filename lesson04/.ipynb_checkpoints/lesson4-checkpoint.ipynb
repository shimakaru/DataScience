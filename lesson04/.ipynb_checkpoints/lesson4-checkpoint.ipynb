{
 "cells": [
  {
   "cell_type": "code",
   "execution_count": 1,
   "metadata": {},
   "outputs": [],
   "source": [
    "import numpy as np\n",
    "m=100\n",
    "x=6*np.random.rand(m,1)-3\n",
    "y=0.5*x**2+x+2+np.random.rand(m,1)"
   ]
  },
  {
   "cell_type": "code",
   "execution_count": 4,
   "metadata": {},
   "outputs": [
    {
     "data": {
      "image/png": "[encoded data removed]",
      "text/plain": [
       "<Figure size 432x288 with 1 Axes>"
      ]
     },
     "metadata": {
      "needs_background": "light"
     },
     "output_type": "display_data"
    }
   ],
   "source": [
    "import matplotlib.pyplot as plt\n",
    "plt.scatter(x,y)\n",
    "plt.show()"
   ]
  },
  {
   "cell_type": "code",
   "execution_count": 5,
   "metadata": {},
   "outputs": [
    {
     "data": {
      "text/plain": [
       "array([[ 4.42800407e-01,  1.96072200e-01],\n",
       "       [ 2.87710220e+00,  8.27771710e+00],\n",
       "       [-2.42753299e+00,  5.89291640e+00],\n",
       "       [ 4.40884418e-01,  1.94379070e-01],\n",
       "       [-1.35889730e+00,  1.84660186e+00],\n",
       "       [ 2.78600915e+00,  7.76184698e+00],\n",
       "       [ 2.38730327e+00,  5.69921692e+00],\n",
       "       [-1.35748221e+00,  1.84275795e+00],\n",
       "       [-1.30624436e-02,  1.70627434e-04],\n",
       "       [-3.58557409e-01,  1.28563415e-01],\n",
       "       [-1.11889462e-01,  1.25192516e-02],\n",
       "       [ 2.45838613e+00,  6.04366237e+00],\n",
       "       [ 2.66695969e+00,  7.11267397e+00],\n",
       "       [-1.28835207e+00,  1.65985107e+00],\n",
       "       [-2.37854939e+00,  5.65749719e+00],\n",
       "       [-6.57388101e-01,  4.32159115e-01],\n",
       "       [ 1.36565797e+00,  1.86502170e+00],\n",
       "       [-2.65802633e+00,  7.06510396e+00],\n",
       "       [ 2.23627888e+00,  5.00094323e+00],\n",
       "       [-7.67307398e-01,  5.88760644e-01],\n",
       "       [ 2.08134228e+00,  4.33198570e+00],\n",
       "       [ 2.15784046e+00,  4.65627544e+00],\n",
       "       [-2.35919162e+00,  5.56578511e+00],\n",
       "       [ 2.74444201e+00,  7.53196195e+00],\n",
       "       [-1.48445464e+00,  2.20360557e+00],\n",
       "       [ 2.12381224e+00,  4.51057843e+00],\n",
       "       [ 2.11928628e+00,  4.49137434e+00],\n",
       "       [-1.47303172e+00,  2.16982246e+00],\n",
       "       [ 1.39576599e+00,  1.94816270e+00],\n",
       "       [ 1.40468936e+00,  1.97315219e+00],\n",
       "       [-8.46664586e-02,  7.16840921e-03],\n",
       "       [-1.91724532e+00,  3.67582962e+00],\n",
       "       [-2.04026375e+00,  4.16267618e+00],\n",
       "       [-9.49169902e-01,  9.00923502e-01],\n",
       "       [-4.77075595e-01,  2.27601124e-01],\n",
       "       [-1.52926824e+00,  2.33866135e+00],\n",
       "       [-7.66461607e-01,  5.87463395e-01],\n",
       "       [ 1.26614141e+00,  1.60311407e+00],\n",
       "       [-2.12444158e+00,  4.51325203e+00],\n",
       "       [-2.25084451e+00,  5.06630102e+00],\n",
       "       [-1.95103369e+00,  3.80653245e+00],\n",
       "       [-2.31533343e+00,  5.36076889e+00],\n",
       "       [ 4.74245562e-01,  2.24908853e-01],\n",
       "       [-4.52169927e-01,  2.04457643e-01],\n",
       "       [-2.64923070e+00,  7.01842328e+00],\n",
       "       [ 1.11795725e-01,  1.24982842e-02],\n",
       "       [-3.17372249e-01,  1.00725145e-01],\n",
       "       [ 1.07233312e+00,  1.14989833e+00],\n",
       "       [-3.75142601e-01,  1.40731971e-01],\n",
       "       [ 2.46480793e+00,  6.07527813e+00],\n",
       "       [-2.66393141e+00,  7.09653057e+00],\n",
       "       [ 1.50296717e+00,  2.25891030e+00],\n",
       "       [ 5.42979541e-01,  2.94826782e-01],\n",
       "       [-2.97140725e+00,  8.82926103e+00],\n",
       "       [-1.63045479e+00,  2.65838282e+00],\n",
       "       [-7.64583053e-01,  5.84587245e-01],\n",
       "       [ 5.56040471e-01,  3.09181006e-01],\n",
       "       [-1.40114324e+00,  1.96320238e+00],\n",
       "       [-3.38492601e-01,  1.14577241e-01],\n",
       "       [ 2.56697149e+00,  6.58934265e+00],\n",
       "       [ 1.91359546e+00,  3.66184759e+00],\n",
       "       [-1.86501224e+00,  3.47827066e+00],\n",
       "       [-2.85087265e+00,  8.12747489e+00],\n",
       "       [-2.39839247e+00,  5.75228645e+00],\n",
       "       [ 2.07925715e+00,  4.32331029e+00],\n",
       "       [-1.92512002e+00,  3.70608708e+00],\n",
       "       [ 2.19614154e+00,  4.82303766e+00],\n",
       "       [-2.47502086e+00,  6.12572828e+00],\n",
       "       [ 1.26768498e+00,  1.60702522e+00],\n",
       "       [ 1.80574161e+00,  3.26070276e+00],\n",
       "       [ 2.99796536e+00,  8.98779633e+00],\n",
       "       [ 1.56198457e+00,  2.43979581e+00],\n",
       "       [-1.56258468e+00,  2.44167089e+00],\n",
       "       [ 1.28333034e+00,  1.64693677e+00],\n",
       "       [ 9.34726797e-02,  8.73714185e-03],\n",
       "       [-4.38338789e-01,  1.92140894e-01],\n",
       "       [-2.46628261e+00,  6.08254990e+00],\n",
       "       [ 1.45245321e+00,  2.10962034e+00],\n",
       "       [ 1.85626951e+00,  3.44573650e+00],\n",
       "       [-9.74483170e-01,  9.49617449e-01],\n",
       "       [ 1.15316873e+00,  1.32979812e+00],\n",
       "       [-1.36369210e+00,  1.85965614e+00],\n",
       "       [ 1.73689717e+00,  3.01681177e+00],\n",
       "       [ 1.19184943e+00,  1.42050506e+00],\n",
       "       [-1.18803712e+00,  1.41143219e+00],\n",
       "       [ 2.70464911e+00,  7.31512678e+00],\n",
       "       [ 1.47734585e+00,  2.18255076e+00],\n",
       "       [ 1.22012592e+00,  1.48870727e+00],\n",
       "       [ 1.91337722e+00,  3.66101239e+00],\n",
       "       [ 1.82764831e+00,  3.34029835e+00],\n",
       "       [ 1.40482355e+00,  1.97352920e+00],\n",
       "       [-1.80289512e+00,  3.25043083e+00],\n",
       "       [-1.82472860e+00,  3.32963445e+00],\n",
       "       [-7.47936808e-01,  5.59409469e-01],\n",
       "       [-2.89414899e+00,  8.37609839e+00],\n",
       "       [ 6.72088463e-01,  4.51702902e-01],\n",
       "       [-2.49852459e-01,  6.24262514e-02],\n",
       "       [-1.18357013e+00,  1.40083825e+00],\n",
       "       [ 2.54402237e+00,  6.47204984e+00],\n",
       "       [-1.17785315e+00,  1.38733804e+00]])"
      ]
     },
     "execution_count": 5,
     "metadata": {},
     "output_type": "execute_result"
    }
   ],
   "source": [
    "from sklearn.preprocessing import PolynomialFeatures\n",
    "poly_features=PolynomialFeatures(degree=2,include_bias=False)\n",
    "X_poly=poly_features.fit_transform(x)\n",
    "X_poly"
   ]
  },
  {
   "cell_type": "code",
   "execution_count": 7,
   "metadata": {},
   "outputs": [
    {
     "data": {
      "text/plain": [
       "(array([2.47948984]), array([[0.99553761, 0.50754238]]))"
      ]
     },
     "execution_count": 7,
     "metadata": {},
     "output_type": "execute_result"
    }
   ],
   "source": [
    "from sklearn.linear_model import LinearRegression\n",
    "lin_reg=LinearRegression()\n",
    "lin_reg.fit(X_poly,y)\n",
    "lin_reg.intercept_,lin_reg.coef_"
   ]
  },
  {
   "cell_type": "code",
   "execution_count": null,
   "metadata": {},
   "outputs": [],
   "source": []
  }
 ],
 "metadata": {
  "kernelspec": {
   "display_name": "Python 3",
   "language": "python",
   "name": "python3"
  },
  "language_info": {
   "codemirror_mode": {
    "name": "ipython",
    "version": 3
   },
   "file_extension": ".py",
   "mimetype": "text/x-python",
   "name": "python",
   "nbconvert_exporter": "python",
   "pygments_lexer": "ipython3",
   "version": "3.7.7"
  }
 },
 "nbformat": 4,
 "nbformat_minor": 4
}
